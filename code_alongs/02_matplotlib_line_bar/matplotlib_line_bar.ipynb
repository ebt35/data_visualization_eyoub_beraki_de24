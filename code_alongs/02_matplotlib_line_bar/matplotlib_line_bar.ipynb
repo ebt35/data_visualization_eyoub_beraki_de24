{
 "cells": [
  {
   "cell_type": "markdown",
   "metadata": {},
   "source": [
    "# Matplotlib fundamenstals "
   ]
  },
  {
   "cell_type": "code",
   "execution_count": null,
   "metadata": {},
   "outputs": [
    {
     "ename": "",
     "evalue": "",
     "output_type": "error",
     "traceback": [
      "\u001b[1;31mRunning cells with '.venv (Python 3.12.6)' requires the ipykernel package.\n",
      "\u001b[1;31mRun the following command to install 'ipykernel' into the Python environment. \n",
      "\u001b[1;31mCommand: '/Users/admin/Documents/github/data_visualization_eyoub_beraki_de24/.venv/bin/python -m pip install ipykernel -U --force-reinstall'"
     ]
    }
   ],
   "source": [
    "import pandas as pd\n",
    "\n",
    "df = pd.read_csv(\"data/norway_new_car_sales_by_make.csv\")\n",
    "df.head()"
   ]
  },
  {
   "cell_type": "markdown",
   "metadata": {},
   "source": [
    "# EDA - Exploratory data analysis"
   ]
  },
  {
   "cell_type": "code",
   "execution_count": null,
   "metadata": {},
   "outputs": [],
   "source": [
    "df.shape"
   ]
  },
  {
   "cell_type": "code",
   "execution_count": null,
   "metadata": {},
   "outputs": [],
   "source": [
    "df.info()"
   ]
  },
  {
   "cell_type": "code",
   "execution_count": null,
   "metadata": {},
   "outputs": [],
   "source": [
    "df.describe()"
   ]
  },
  {
   "cell_type": "code",
   "execution_count": null,
   "metadata": {},
   "outputs": [],
   "source": [
    "df.describe().T"
   ]
  },
  {
   "cell_type": "code",
   "execution_count": null,
   "metadata": {},
   "outputs": [],
   "source": [
    "df.head(20)"
   ]
  },
  {
   "cell_type": "code",
   "execution_count": null,
   "metadata": {},
   "outputs": [],
   "source": [
    "import duckdb \n",
    "\n",
    "# brand and total quantity for each brand\n",
    "\n",
    "df_quantity_brand = duckdb.query(\"\"\"\n",
    "    SELECT \n",
    "        make AS Brand,\n",
    "        SUM(quantity) AS Quantity\n",
    "    FROM df\n",
    "    GROUP BY \n",
    "        make\n",
    "    ORDER BY \n",
    "        quantity\n",
    "    DESC\n",
    "\"\"\").df()\n",
    "\n",
    "df_quantity_brand.head()"
   ]
  },
  {
   "cell_type": "code",
   "execution_count": null,
   "metadata": {},
   "outputs": [],
   "source": [
    "df[\"Year\"].unique()"
   ]
  },
  {
   "cell_type": "markdown",
   "metadata": {},
   "source": [
    "## Bar chart"
   ]
  },
  {
   "cell_type": "code",
   "execution_count": null,
   "metadata": {},
   "outputs": [],
   "source": [
    "df_quantity_brand.plot(kind = \"bar\", x = \"Brand\", y = \"Quantity\", title = \"Cars sold in Norway\")"
   ]
  },
  {
   "cell_type": "markdown",
   "metadata": {},
   "source": [
    "# Plot top 5 most popular brands"
   ]
  },
  {
   "cell_type": "code",
   "execution_count": null,
   "metadata": {},
   "outputs": [],
   "source": [
    "df_quantity_brand.head().plot(kind = \"bar\", x = \"Brand\", y = \"Quantity\")"
   ]
  },
  {
   "cell_type": "code",
   "execution_count": null,
   "metadata": {},
   "outputs": [],
   "source": [
    "df_quantity_brand.iloc[3:6].plot(kind = \"bar\", x = \"Brand\", y = \"Quantity\")"
   ]
  },
  {
   "cell_type": "markdown",
   "metadata": {},
   "source": [
    "# Matplotlib bar"
   ]
  },
  {
   "cell_type": "code",
   "execution_count": null,
   "metadata": {},
   "outputs": [],
   "source": [
    "import matplotlib.pyplot as plt\n",
    "\n",
    "df_quantity_brand_top10 = df_quantity_brand.iloc[:10]\n",
    "\n",
    "fig, ax = plt.subplots(figsize=(12, 6))\n",
    "\n",
    "ax.bar(\n",
    "    x=df_quantity_brand_top10[\"Brand\"],\n",
    "    height=df_quantity_brand_top10[\"Quantity\"],\n",
    "    width=0.6,\n",
    ")\n",
    "\n",
    "ax.set(\n",
    "    title=\"Number of cars from top 10 most sold brands in Norway 2007-2017\",\n",
    "    xlabel=\"Car brand\",\n",
    "    ylabel=\"Number of cars\",\n",
    ")\n",
    "\n",
    "fig.tight_layout()\n",
    "\n",
    "fig.savefig(\"figures/bars_top_10_cars.png\")"
   ]
  },
  {
   "cell_type": "markdown",
   "metadata": {},
   "source": [
    "# Line chart"
   ]
  },
  {
   "cell_type": "code",
   "execution_count": null,
   "metadata": {},
   "outputs": [],
   "source": [
    "df_quantity_year = duckdb.query(\n",
    "    \"\"\"\n",
    "    SELECT \n",
    "        year, \n",
    "        SUM(quantity) AS Quantity\n",
    "    FROM df\n",
    "    GROUP BY year\n",
    "    ORDER BY \n",
    "        year\n",
    "             \"\"\"\n",
    ").df().set_index(\"Year\")\n",
    "\n",
    "df_quantity_year"
   ]
  },
  {
   "cell_type": "code",
   "execution_count": null,
   "metadata": {},
   "outputs": [],
   "source": [
    "df.tail()"
   ]
  },
  {
   "cell_type": "code",
   "execution_count": null,
   "metadata": {},
   "outputs": [],
   "source": [
    "df_quantity_year.iloc[:-1].plot()"
   ]
  },
  {
   "cell_type": "code",
   "execution_count": null,
   "metadata": {},
   "outputs": [],
   "source": [
    "ax = df_quantity_year.iloc[:-1].plot(\n",
    "    title=\"Car sales in Norway between 2007-2016\",\n",
    "    xlabel=\"Year\",\n",
    "    ylabel=\"Number cars sold\",\n",
    "    style=\"--o\",\n",
    "    linewidth=2,\n",
    ")\n",
    "\n",
    "ax.legend().remove()\n",
    "fig = ax.get_figure()\n",
    "fig.tight_layout()\n",
    "fig.savefig(\"figures/car_sales_yearly_line.png\")"
   ]
  },
  {
   "cell_type": "code",
   "execution_count": null,
   "metadata": {},
   "outputs": [],
   "source": []
  }
 ],
 "metadata": {
  "kernelspec": {
   "display_name": ".venv",
   "language": "python",
   "name": "python3"
  },
  "language_info": {
   "codemirror_mode": {
    "name": "ipython",
    "version": 3
   },
   "file_extension": ".py",
   "mimetype": "text/x-python",
   "name": "python",
   "nbconvert_exporter": "python",
   "pygments_lexer": "ipython3",
   "version": "3.12.6"
  }
 },
 "nbformat": 4,
 "nbformat_minor": 2
}
