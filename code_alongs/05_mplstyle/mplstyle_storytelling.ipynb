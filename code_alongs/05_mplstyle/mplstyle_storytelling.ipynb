{
 "cells": [
  {
   "cell_type": "markdown",
   "metadata": {},
   "source": [
    "## mplstyle and DRY for storytelling in matplotlib"
   ]
  },
  {
   "cell_type": "code",
   "execution_count": 2,
   "metadata": {},
   "outputs": [
    {
     "data": {
      "text/html": [
       "<div>\n",
       "<style scoped>\n",
       "    .dataframe tbody tr th:only-of-type {\n",
       "        vertical-align: middle;\n",
       "    }\n",
       "\n",
       "    .dataframe tbody tr th {\n",
       "        vertical-align: top;\n",
       "    }\n",
       "\n",
       "    .dataframe thead th {\n",
       "        text-align: right;\n",
       "    }\n",
       "</style>\n",
       "<table border=\"1\" class=\"dataframe\">\n",
       "  <thead>\n",
       "    <tr style=\"text-align: right;\">\n",
       "      <th></th>\n",
       "      <th>work_year</th>\n",
       "      <th>experience_level</th>\n",
       "      <th>employment_type</th>\n",
       "      <th>job_title</th>\n",
       "      <th>salary</th>\n",
       "      <th>salary_currency</th>\n",
       "      <th>salary_in_usd</th>\n",
       "      <th>employee_residence</th>\n",
       "      <th>work_setting</th>\n",
       "      <th>company_location</th>\n",
       "      <th>company_size</th>\n",
       "      <th>job_category</th>\n",
       "    </tr>\n",
       "  </thead>\n",
       "  <tbody>\n",
       "    <tr>\n",
       "      <th>0</th>\n",
       "      <td>2024</td>\n",
       "      <td>Entry-level</td>\n",
       "      <td>Freelance</td>\n",
       "      <td>Applied Data Scientist</td>\n",
       "      <td>30000</td>\n",
       "      <td>USD</td>\n",
       "      <td>30000</td>\n",
       "      <td>United Kingdom</td>\n",
       "      <td>Remote</td>\n",
       "      <td>United Kingdom</td>\n",
       "      <td>M</td>\n",
       "      <td>Data Science and Research</td>\n",
       "    </tr>\n",
       "    <tr>\n",
       "      <th>1</th>\n",
       "      <td>2024</td>\n",
       "      <td>Executive</td>\n",
       "      <td>Full-time</td>\n",
       "      <td>Business Intelligence</td>\n",
       "      <td>230000</td>\n",
       "      <td>USD</td>\n",
       "      <td>230000</td>\n",
       "      <td>United States</td>\n",
       "      <td>In-person</td>\n",
       "      <td>United States</td>\n",
       "      <td>M</td>\n",
       "      <td>BI and Visualization</td>\n",
       "    </tr>\n",
       "    <tr>\n",
       "      <th>2</th>\n",
       "      <td>2024</td>\n",
       "      <td>Executive</td>\n",
       "      <td>Full-time</td>\n",
       "      <td>Business Intelligence</td>\n",
       "      <td>176900</td>\n",
       "      <td>USD</td>\n",
       "      <td>176900</td>\n",
       "      <td>United States</td>\n",
       "      <td>In-person</td>\n",
       "      <td>United States</td>\n",
       "      <td>M</td>\n",
       "      <td>BI and Visualization</td>\n",
       "    </tr>\n",
       "    <tr>\n",
       "      <th>3</th>\n",
       "      <td>2024</td>\n",
       "      <td>Senior</td>\n",
       "      <td>Full-time</td>\n",
       "      <td>Data Architect</td>\n",
       "      <td>171210</td>\n",
       "      <td>USD</td>\n",
       "      <td>171210</td>\n",
       "      <td>Canada</td>\n",
       "      <td>In-person</td>\n",
       "      <td>Canada</td>\n",
       "      <td>M</td>\n",
       "      <td>Data Architecture and Modeling</td>\n",
       "    </tr>\n",
       "    <tr>\n",
       "      <th>4</th>\n",
       "      <td>2024</td>\n",
       "      <td>Senior</td>\n",
       "      <td>Full-time</td>\n",
       "      <td>Data Architect</td>\n",
       "      <td>92190</td>\n",
       "      <td>USD</td>\n",
       "      <td>92190</td>\n",
       "      <td>Canada</td>\n",
       "      <td>In-person</td>\n",
       "      <td>Canada</td>\n",
       "      <td>M</td>\n",
       "      <td>Data Architecture and Modeling</td>\n",
       "    </tr>\n",
       "  </tbody>\n",
       "</table>\n",
       "</div>"
      ],
      "text/plain": [
       "   work_year experience_level employment_type               job_title  salary  \\\n",
       "0       2024      Entry-level       Freelance  Applied Data Scientist   30000   \n",
       "1       2024        Executive       Full-time   Business Intelligence  230000   \n",
       "2       2024        Executive       Full-time   Business Intelligence  176900   \n",
       "3       2024           Senior       Full-time          Data Architect  171210   \n",
       "4       2024           Senior       Full-time          Data Architect   92190   \n",
       "\n",
       "  salary_currency  salary_in_usd employee_residence work_setting  \\\n",
       "0             USD          30000     United Kingdom       Remote   \n",
       "1             USD         230000      United States    In-person   \n",
       "2             USD         176900      United States    In-person   \n",
       "3             USD         171210             Canada    In-person   \n",
       "4             USD          92190             Canada    In-person   \n",
       "\n",
       "  company_location company_size                    job_category  \n",
       "0   United Kingdom            M       Data Science and Research  \n",
       "1    United States            M            BI and Visualization  \n",
       "2    United States            M            BI and Visualization  \n",
       "3           Canada            M  Data Architecture and Modeling  \n",
       "4           Canada            M  Data Architecture and Modeling  "
      ]
     },
     "execution_count": 2,
     "metadata": {},
     "output_type": "execute_result"
    }
   ],
   "source": [
    "import matplotlib.pyplot as plt\n",
    "import pandas as pd\n",
    "import duckdb\n",
    "\n",
    "# in python script: \n",
    "# Path(__file__).parent / \"styles/base.mplstyle\"\n",
    "\n",
    "plt.style.use(\"styles/base.mplstyle\")\n",
    "\n",
    "df = pd.read_csv(\"data/jobs_in_data_2024.csv\")\n",
    "df.head()"
   ]
  },
  {
   "cell_type": "code",
   "execution_count": 3,
   "metadata": {},
   "outputs": [
    {
     "data": {
      "text/plain": [
       "(14199, 12)"
      ]
     },
     "execution_count": 3,
     "metadata": {},
     "output_type": "execute_result"
    }
   ],
   "source": [
    "df.shape"
   ]
  },
  {
   "cell_type": "code",
   "execution_count": 4,
   "metadata": {},
   "outputs": [
    {
     "data": {
      "text/plain": [
       "job_category\n",
       "Data Science and Research         4675\n",
       "Data Engineering                  3157\n",
       "Data Analysis                     2204\n",
       "Machine Learning and AI           2148\n",
       "Leadership and Management          791\n",
       "BI and Visualization               600\n",
       "Data Architecture and Modeling     419\n",
       "Data Management and Strategy       115\n",
       "Data Quality and Operations         79\n",
       "Cloud and Database                  11\n",
       "Name: count, dtype: int64"
      ]
     },
     "execution_count": 4,
     "metadata": {},
     "output_type": "execute_result"
    }
   ],
   "source": [
    "df_job_categories = df[\"job_category\"].value_counts()\n",
    "df_job_categories"
   ]
  },
  {
   "cell_type": "code",
   "execution_count": 5,
   "metadata": {},
   "outputs": [
    {
     "data": {
      "text/plain": [
       "pandas.core.series.Series"
      ]
     },
     "execution_count": 5,
     "metadata": {},
     "output_type": "execute_result"
    }
   ],
   "source": [
    "type(df_job_categories)"
   ]
  },
  {
   "cell_type": "markdown",
   "metadata": {},
   "source": [
    "## visualizations"
   ]
  },
  {
   "cell_type": "markdown",
   "metadata": {},
   "source": []
  }
 ],
 "metadata": {
  "kernelspec": {
   "display_name": ".venv",
   "language": "python",
   "name": "python3"
  },
  "language_info": {
   "codemirror_mode": {
    "name": "ipython",
    "version": 3
   },
   "file_extension": ".py",
   "mimetype": "text/x-python",
   "name": "python",
   "nbconvert_exporter": "python",
   "pygments_lexer": "ipython3",
   "version": "3.12.6"
  }
 },
 "nbformat": 4,
 "nbformat_minor": 2
}
